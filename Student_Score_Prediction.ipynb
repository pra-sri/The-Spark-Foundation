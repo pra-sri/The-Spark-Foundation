{
  "nbformat": 4,
  "nbformat_minor": 0,
  "metadata": {
    "colab": {
      "name": "Student Score Prediction.ipynb",
      "provenance": [],
      "collapsed_sections": [],
      "authorship_tag": "ABX9TyMrVgkjddS6RM8EbZme8FSo",
      "include_colab_link": true
    },
    "kernelspec": {
      "name": "python3",
      "display_name": "Python 3"
    }
  },
  "cells": [
    {
      "cell_type": "markdown",
      "metadata": {
        "id": "view-in-github",
        "colab_type": "text"
      },
      "source": [
        "<a href=\"https://colab.research.google.com/github/pra-sri/The-Spark-Foundation/blob/main/Student_Score_Prediction.ipynb\" target=\"_parent\"><img src=\"https://colab.research.google.com/assets/colab-badge.svg\" alt=\"Open In Colab\"/></a>"
      ]
    },
    {
      "cell_type": "markdown",
      "metadata": {
        "id": "k470rYCwpK7G"
      },
      "source": [
        "**Author : Prakhar Srivastava**\n",
        "\n",
        "\n",
        "> Copyright: https://www.linkedin.com/in/prakharsri/ , Oct'2020\n",
        "\n"
      ]
    },
    {
      "cell_type": "markdown",
      "metadata": {
        "id": "4YRHjmKWpupP"
      },
      "source": [
        "***Task 1 :***\n",
        "\n",
        "\n",
        "```\n",
        "In this every first task, we are going to predict the percentage scored by a student in his/her examination based upon his/her study hours. \n",
        "```\n",
        "\n",
        "\n",
        "> Does number of study hours and the score are related to each other? If yes, then how are these related? \n",
        "\n",
        "\n",
        "\n",
        "\n",
        "\n"
      ]
    },
    {
      "cell_type": "markdown",
      "metadata": {
        "id": "nlLgaKLHqw3f"
      },
      "source": [
        "#**Step 1: Data Acquisition**\n",
        "\n",
        "Let's collect the data we are going to need."
      ]
    },
    {
      "cell_type": "code",
      "metadata": {
        "id": "ITlwYn2wpr6f"
      },
      "source": [
        "# here we are importing the libraries that we are going to use in this project.\n",
        "\n",
        "import pandas as pd                         #Pandas library : used for reading and manipulating large dataset.\n",
        "import numpy as nm                          #Numpy library : used for storing and manipulating Multi-Dimensional Data.\n",
        "import matplotlib.pyplot as plt             #Matplotlib library : used for ploting graphs.\n",
        "%matplotlib inline"
      ],
      "execution_count": 1,
      "outputs": []
    },
    {
      "cell_type": "code",
      "metadata": {
        "id": "0PSv2Q78sgwy",
        "outputId": "b26d571f-085c-43ca-ce31-9b5feffe18d1",
        "colab": {
          "base_uri": "https://localhost:8080/",
          "height": 204
        }
      },
      "source": [
        "#Reading the data \n",
        "\n",
        "data=pd.read_csv(\"http://bit.ly/w-data\") #our data will be loaded and stored in the variable\n",
        "\n",
        "#peek-a-bow at the dta\n",
        "data.head()"
      ],
      "execution_count": 2,
      "outputs": [
        {
          "output_type": "execute_result",
          "data": {
            "text/html": [
              "<div>\n",
              "<style scoped>\n",
              "    .dataframe tbody tr th:only-of-type {\n",
              "        vertical-align: middle;\n",
              "    }\n",
              "\n",
              "    .dataframe tbody tr th {\n",
              "        vertical-align: top;\n",
              "    }\n",
              "\n",
              "    .dataframe thead th {\n",
              "        text-align: right;\n",
              "    }\n",
              "</style>\n",
              "<table border=\"1\" class=\"dataframe\">\n",
              "  <thead>\n",
              "    <tr style=\"text-align: right;\">\n",
              "      <th></th>\n",
              "      <th>Hours</th>\n",
              "      <th>Scores</th>\n",
              "    </tr>\n",
              "  </thead>\n",
              "  <tbody>\n",
              "    <tr>\n",
              "      <th>0</th>\n",
              "      <td>2.5</td>\n",
              "      <td>21</td>\n",
              "    </tr>\n",
              "    <tr>\n",
              "      <th>1</th>\n",
              "      <td>5.1</td>\n",
              "      <td>47</td>\n",
              "    </tr>\n",
              "    <tr>\n",
              "      <th>2</th>\n",
              "      <td>3.2</td>\n",
              "      <td>27</td>\n",
              "    </tr>\n",
              "    <tr>\n",
              "      <th>3</th>\n",
              "      <td>8.5</td>\n",
              "      <td>75</td>\n",
              "    </tr>\n",
              "    <tr>\n",
              "      <th>4</th>\n",
              "      <td>3.5</td>\n",
              "      <td>30</td>\n",
              "    </tr>\n",
              "  </tbody>\n",
              "</table>\n",
              "</div>"
            ],
            "text/plain": [
              "   Hours  Scores\n",
              "0    2.5      21\n",
              "1    5.1      47\n",
              "2    3.2      27\n",
              "3    8.5      75\n",
              "4    3.5      30"
            ]
          },
          "metadata": {
            "tags": []
          },
          "execution_count": 2
        }
      ]
    },
    {
      "cell_type": "markdown",
      "metadata": {
        "id": "HQm2ESK3u8Nq"
      },
      "source": [
        "\n",
        "\n",
        "> Now, we will look at our data\n",
        "\n"
      ]
    },
    {
      "cell_type": "code",
      "metadata": {
        "id": "gvCSxozAuawE",
        "outputId": "a8edb1d6-459d-424c-c4cd-e486ed8cd93c",
        "colab": {
          "base_uri": "https://localhost:8080/"
        }
      },
      "source": [
        "data.shape #it tells the shape of our data i.e. number of rows and column \n",
        "#it will help us know how much data we are going to work at "
      ],
      "execution_count": 3,
      "outputs": [
        {
          "output_type": "execute_result",
          "data": {
            "text/plain": [
              "(25, 2)"
            ]
          },
          "metadata": {
            "tags": []
          },
          "execution_count": 3
        }
      ]
    },
    {
      "cell_type": "code",
      "metadata": {
        "id": "XzLZW49XuyH1",
        "outputId": "b9179734-ddf8-4ed3-9c0e-70e0d578b53f",
        "colab": {
          "base_uri": "https://localhost:8080/",
          "height": 297
        }
      },
      "source": [
        "data.describe()"
      ],
      "execution_count": 4,
      "outputs": [
        {
          "output_type": "execute_result",
          "data": {
            "text/html": [
              "<div>\n",
              "<style scoped>\n",
              "    .dataframe tbody tr th:only-of-type {\n",
              "        vertical-align: middle;\n",
              "    }\n",
              "\n",
              "    .dataframe tbody tr th {\n",
              "        vertical-align: top;\n",
              "    }\n",
              "\n",
              "    .dataframe thead th {\n",
              "        text-align: right;\n",
              "    }\n",
              "</style>\n",
              "<table border=\"1\" class=\"dataframe\">\n",
              "  <thead>\n",
              "    <tr style=\"text-align: right;\">\n",
              "      <th></th>\n",
              "      <th>Hours</th>\n",
              "      <th>Scores</th>\n",
              "    </tr>\n",
              "  </thead>\n",
              "  <tbody>\n",
              "    <tr>\n",
              "      <th>count</th>\n",
              "      <td>25.000000</td>\n",
              "      <td>25.000000</td>\n",
              "    </tr>\n",
              "    <tr>\n",
              "      <th>mean</th>\n",
              "      <td>5.012000</td>\n",
              "      <td>51.480000</td>\n",
              "    </tr>\n",
              "    <tr>\n",
              "      <th>std</th>\n",
              "      <td>2.525094</td>\n",
              "      <td>25.286887</td>\n",
              "    </tr>\n",
              "    <tr>\n",
              "      <th>min</th>\n",
              "      <td>1.100000</td>\n",
              "      <td>17.000000</td>\n",
              "    </tr>\n",
              "    <tr>\n",
              "      <th>25%</th>\n",
              "      <td>2.700000</td>\n",
              "      <td>30.000000</td>\n",
              "    </tr>\n",
              "    <tr>\n",
              "      <th>50%</th>\n",
              "      <td>4.800000</td>\n",
              "      <td>47.000000</td>\n",
              "    </tr>\n",
              "    <tr>\n",
              "      <th>75%</th>\n",
              "      <td>7.400000</td>\n",
              "      <td>75.000000</td>\n",
              "    </tr>\n",
              "    <tr>\n",
              "      <th>max</th>\n",
              "      <td>9.200000</td>\n",
              "      <td>95.000000</td>\n",
              "    </tr>\n",
              "  </tbody>\n",
              "</table>\n",
              "</div>"
            ],
            "text/plain": [
              "           Hours     Scores\n",
              "count  25.000000  25.000000\n",
              "mean    5.012000  51.480000\n",
              "std     2.525094  25.286887\n",
              "min     1.100000  17.000000\n",
              "25%     2.700000  30.000000\n",
              "50%     4.800000  47.000000\n",
              "75%     7.400000  75.000000\n",
              "max     9.200000  95.000000"
            ]
          },
          "metadata": {
            "tags": []
          },
          "execution_count": 4
        }
      ]
    },
    {
      "cell_type": "code",
      "metadata": {
        "id": "PDgvw20OvE7_",
        "outputId": "0185eecf-ad0e-4723-d18b-e69e629b8a21",
        "colab": {
          "base_uri": "https://localhost:8080/"
        }
      },
      "source": [
        "data.info()"
      ],
      "execution_count": 5,
      "outputs": [
        {
          "output_type": "stream",
          "text": [
            "<class 'pandas.core.frame.DataFrame'>\n",
            "RangeIndex: 25 entries, 0 to 24\n",
            "Data columns (total 2 columns):\n",
            " #   Column  Non-Null Count  Dtype  \n",
            "---  ------  --------------  -----  \n",
            " 0   Hours   25 non-null     float64\n",
            " 1   Scores  25 non-null     int64  \n",
            "dtypes: float64(1), int64(1)\n",
            "memory usage: 528.0 bytes\n"
          ],
          "name": "stdout"
        }
      ]
    },
    {
      "cell_type": "code",
      "metadata": {
        "id": "4FysSOZLvIDc",
        "outputId": "051d143e-b749-4456-9f88-4256f5b18b5b",
        "colab": {
          "base_uri": "https://localhost:8080/"
        }
      },
      "source": [
        "data.isnull().sum()"
      ],
      "execution_count": 6,
      "outputs": [
        {
          "output_type": "execute_result",
          "data": {
            "text/plain": [
              "Hours     0\n",
              "Scores    0\n",
              "dtype: int64"
            ]
          },
          "metadata": {
            "tags": []
          },
          "execution_count": 6
        }
      ]
    },
    {
      "cell_type": "markdown",
      "metadata": {
        "id": "7MiLC3G5vQx5"
      },
      "source": [
        "**By the above statement we now know that our data doesn't contain any null value.**"
      ]
    },
    {
      "cell_type": "markdown",
      "metadata": {
        "id": "adxplFFlvmUG"
      },
      "source": [
        "#**Step 2 : Data Visualization**"
      ]
    },
    {
      "cell_type": "code",
      "metadata": {
        "id": "XB-mm6x2vZ5R",
        "outputId": "0ad47334-ff2d-49e3-9100-cdaa8b6e076e",
        "colab": {
          "base_uri": "https://localhost:8080/",
          "height": 282
        }
      },
      "source": [
        "plt.scatter(data['Hours'], data['Scores'])"
      ],
      "execution_count": 7,
      "outputs": [
        {
          "output_type": "execute_result",
          "data": {
            "text/plain": [
              "<matplotlib.collections.PathCollection at 0x7f725670c630>"
            ]
          },
          "metadata": {
            "tags": []
          },
          "execution_count": 7
        },
        {
          "output_type": "display_data",
          "data": {
            "image/png": "[encoded data removed]",
            "text/plain": [
              "<Figure size 432x288 with 1 Axes>"
            ]
          },
          "metadata": {
            "tags": [],
            "needs_background": "light"
          }
        }
      ]
    },
    {
      "cell_type": "markdown",
      "metadata": {
        "id": "1dbeMljnwhwc"
      },
      "source": [
        "**By the above scatter plot, it is clear that both the values in our data is linearly related.**"
      ]
    },
    {
      "cell_type": "markdown",
      "metadata": {
        "id": "eldeyEH8zCGv"
      },
      "source": [
        "# **Step 3 : Declartion Of Dependent & Independent variable**"
      ]
    },
    {
      "cell_type": "markdown",
      "metadata": {
        "id": "c247ng3Fzoyf"
      },
      "source": [
        "\n",
        "\n",
        "> Since we have only two attributes in our data, so here, i'm going to declare variables directly without splitting\n",
        "\n"
      ]
    },
    {
      "cell_type": "code",
      "metadata": {
        "id": "foIfbdXMwQaQ"
      },
      "source": [
        "X = data.iloc[:, :-1].values  \n",
        "y = data.iloc[:, 1].values  "
      ],
      "execution_count": 8,
      "outputs": []
    },
    {
      "cell_type": "markdown",
      "metadata": {
        "id": "3lWFc2AC-r_Z"
      },
      "source": [
        "Spliting the data into two parts, one for training the model and the other for testing the model"
      ]
    },
    {
      "cell_type": "code",
      "metadata": {
        "id": "sdz92q-O-2hL"
      },
      "source": [
        "from sklearn.model_selection import train_test_split  \n",
        "X_train, X_test, y_train, y_test = train_test_split(X, y, \n",
        "                            test_size=0.2, random_state=0) "
      ],
      "execution_count": 9,
      "outputs": []
    },
    {
      "cell_type": "markdown",
      "metadata": {
        "id": "h5upNaMb_ClQ"
      },
      "source": [
        "#Step 4 : Training the alogorithm \n"
      ]
    },
    {
      "cell_type": "markdown",
      "metadata": {
        "id": "8dA26AeJ_JEs"
      },
      "source": [
        "By graph we already knew that the data is linearly related, so we will use **Linear Regression** for our prediction.\n"
      ]
    },
    {
      "cell_type": "code",
      "metadata": {
        "id": "5GhXHu4w0Idv",
        "outputId": "c2be35a0-9de8-4e70-8f3f-07465d34c662",
        "colab": {
          "base_uri": "https://localhost:8080/"
        }
      },
      "source": [
        "from sklearn.linear_model import LinearRegression  \n",
        "\n",
        "regressor = LinearRegression()  \n",
        "regressor.fit(X_train, y_train) \n"
      ],
      "execution_count": 10,
      "outputs": [
        {
          "output_type": "execute_result",
          "data": {
            "text/plain": [
              "LinearRegression(copy_X=True, fit_intercept=True, n_jobs=None, normalize=False)"
            ]
          },
          "metadata": {
            "tags": []
          },
          "execution_count": 10
        }
      ]
    },
    {
      "cell_type": "markdown",
      "metadata": {
        "id": "sp3TlmA8AKKN"
      },
      "source": [
        "**Now we will plot the regression line**"
      ]
    },
    {
      "cell_type": "code",
      "metadata": {
        "id": "6ExFMb5EyYCr",
        "outputId": "216405e2-8912-4107-9caf-81f927e42eda",
        "colab": {
          "base_uri": "https://localhost:8080/",
          "height": 265
        }
      },
      "source": [
        "# Plotting the regression line\n",
        "line = regressor.coef_*X+regressor.intercept_\n",
        "\n",
        "# Plotting for the test data\n",
        "plt.scatter(X, y)\n",
        "plt.plot(X, line);\n",
        "plt.show()"
      ],
      "execution_count": 11,
      "outputs": [
        {
          "output_type": "display_data",
          "data": {
            "image/png": "[encoded data removed]",
            "text/plain": [
              "<Figure size 432x288 with 1 Axes>"
            ]
          },
          "metadata": {
            "tags": [],
            "needs_background": "light"
          }
        }
      ]
    },
    {
      "cell_type": "markdown",
      "metadata": {
        "id": "XIeBqD68AW9r"
      },
      "source": [
        "#Step 5 : Testing the Model\n"
      ]
    },
    {
      "cell_type": "markdown",
      "metadata": {
        "id": "MQ2FfEvDAW3C"
      },
      "source": [
        "> we are left with the last step, that is, testing our trained model which in our case is making the prediction.\n",
        "\n",
        "\n",
        "\n"
      ]
    },
    {
      "cell_type": "code",
      "metadata": {
        "id": "4EfailD9A1MC"
      },
      "source": [
        "y_pred  = regressor.predict(X_test)"
      ],
      "execution_count": 12,
      "outputs": []
    },
    {
      "cell_type": "markdown",
      "metadata": {
        "id": "31M4P1YIEQoB"
      },
      "source": [
        "> **Test Set Visualization**"
      ]
    },
    {
      "cell_type": "code",
      "metadata": {
        "id": "UTqPxH35EVwm",
        "outputId": "a2850786-f72a-4eae-e4df-1f60001359e7",
        "colab": {
          "base_uri": "https://localhost:8080/",
          "height": 296
        }
      },
      "source": [
        "plt.scatter(X_test, y_test, color = 'Black')\n",
        "plt.plot(X_train, regressor.predict(X_train), color = 'orange')\n",
        "plt.title('(Test set)')\n",
        "plt.xlabel('X_Plane')\n",
        "plt.ylabel('Y_Plane')\n",
        "plt.show()"
      ],
      "execution_count": 13,
      "outputs": [
        {
          "output_type": "display_data",
          "data": {
            "image/png": "[encoded data removed]",
            "text/plain": [
              "<Figure size 432x288 with 1 Axes>"
            ]
          },
          "metadata": {
            "tags": [],
            "needs_background": "light"
          }
        }
      ]
    },
    {
      "cell_type": "markdown",
      "metadata": {
        "id": "Ymzd07A7BEtd"
      },
      "source": [
        "**Lets compare our Predicted value with the given Actual Value.**"
      ]
    },
    {
      "cell_type": "code",
      "metadata": {
        "id": "_huMb3iKBKRu",
        "outputId": "ebcd62f5-3225-4536-bcc2-1994fdb2d21d",
        "colab": {
          "base_uri": "https://localhost:8080/",
          "height": 204
        }
      },
      "source": [
        "df = pd.DataFrame({'Actual Value': y_test, 'Predicted Value': y_pred})  \n",
        "df "
      ],
      "execution_count": 14,
      "outputs": [
        {
          "output_type": "execute_result",
          "data": {
            "text/html": [
              "<div>\n",
              "<style scoped>\n",
              "    .dataframe tbody tr th:only-of-type {\n",
              "        vertical-align: middle;\n",
              "    }\n",
              "\n",
              "    .dataframe tbody tr th {\n",
              "        vertical-align: top;\n",
              "    }\n",
              "\n",
              "    .dataframe thead th {\n",
              "        text-align: right;\n",
              "    }\n",
              "</style>\n",
              "<table border=\"1\" class=\"dataframe\">\n",
              "  <thead>\n",
              "    <tr style=\"text-align: right;\">\n",
              "      <th></th>\n",
              "      <th>Actual Value</th>\n",
              "      <th>Predicted Value</th>\n",
              "    </tr>\n",
              "  </thead>\n",
              "  <tbody>\n",
              "    <tr>\n",
              "      <th>0</th>\n",
              "      <td>20</td>\n",
              "      <td>16.884145</td>\n",
              "    </tr>\n",
              "    <tr>\n",
              "      <th>1</th>\n",
              "      <td>27</td>\n",
              "      <td>33.732261</td>\n",
              "    </tr>\n",
              "    <tr>\n",
              "      <th>2</th>\n",
              "      <td>69</td>\n",
              "      <td>75.357018</td>\n",
              "    </tr>\n",
              "    <tr>\n",
              "      <th>3</th>\n",
              "      <td>30</td>\n",
              "      <td>26.794801</td>\n",
              "    </tr>\n",
              "    <tr>\n",
              "      <th>4</th>\n",
              "      <td>62</td>\n",
              "      <td>60.491033</td>\n",
              "    </tr>\n",
              "  </tbody>\n",
              "</table>\n",
              "</div>"
            ],
            "text/plain": [
              "   Actual Value  Predicted Value\n",
              "0            20        16.884145\n",
              "1            27        33.732261\n",
              "2            69        75.357018\n",
              "3            30        26.794801\n",
              "4            62        60.491033"
            ]
          },
          "metadata": {
            "tags": []
          },
          "execution_count": 14
        }
      ]
    },
    {
      "cell_type": "markdown",
      "metadata": {
        "id": "5ThLNHdxBUQe"
      },
      "source": [
        "> **Now we can use our model for our own data.**"
      ]
    },
    {
      "cell_type": "code",
      "metadata": {
        "id": "6GC3YCmFBhFK",
        "outputId": "4ac091bb-2ef7-4cea-97ec-4177ba6b36bc",
        "colab": {
          "base_uri": "https://localhost:8080/"
        }
      },
      "source": [
        "study_hour  = [[9.25]]\n",
        "score_prediction  = regressor.predict(study_hour)\n",
        "\n",
        "print(\"No of Hours of studying : \",study_hour)\n",
        "print(\"Predicted Score : \",score_prediction)"
      ],
      "execution_count": 15,
      "outputs": [
        {
          "output_type": "stream",
          "text": [
            "No of Hours of studying :  [[9.25]]\n",
            "Predicted Score :  [93.69173249]\n"
          ],
          "name": "stdout"
        }
      ]
    },
    {
      "cell_type": "markdown",
      "metadata": {
        "id": "caxCtsJFJNb2"
      },
      "source": [
        "**According to our model, if a student study 9.25hr/day then he/she can score 93.69%**"
      ]
    },
    {
      "cell_type": "markdown",
      "metadata": {
        "id": "QO7K79-uC3Dq"
      },
      "source": [
        "#Step 6 : Model Evaluation"
      ]
    },
    {
      "cell_type": "markdown",
      "metadata": {
        "id": "yD6-e4JwC6Lc"
      },
      "source": [
        "> We have predicted the values also, now we must evaluate our model. How accurate it is?\n",
        "\n",
        "> It can be determined by various type of error\n"
      ]
    },
    {
      "cell_type": "code",
      "metadata": {
        "id": "AmLOPbDFC1Wv",
        "outputId": "33ee81b8-f81c-4244-dcf3-ca337190fdc2",
        "colab": {
          "base_uri": "https://localhost:8080/"
        }
      },
      "source": [
        "#calculating r2score\n",
        "from sklearn.metrics import r2_score\n",
        "print(\"R2 Score : \",r2_score(y_test,y_pred))"
      ],
      "execution_count": 16,
      "outputs": [
        {
          "output_type": "stream",
          "text": [
            "R2 Score :  0.9454906892105354\n"
          ],
          "name": "stdout"
        }
      ]
    },
    {
      "cell_type": "code",
      "metadata": {
        "id": "0x5wOL3XFWMc",
        "outputId": "0799a21a-53c2-4bd8-aa83-0194e02003c5",
        "colab": {
          "base_uri": "https://localhost:8080/"
        }
      },
      "source": [
        "#To find the error\n",
        "from sklearn.metrics import mean_squared_error\n",
        "print(\"Mean Square Error : \",mean_squared_error(y_test,y_pred))"
      ],
      "execution_count": 17,
      "outputs": [
        {
          "output_type": "stream",
          "text": [
            "Mean Square Error :  21.598769307217456\n"
          ],
          "name": "stdout"
        }
      ]
    },
    {
      "cell_type": "code",
      "metadata": {
        "id": "CfLvyu7eFWGl",
        "outputId": "271c38a7-d234-469d-c6eb-60f594550596",
        "colab": {
          "base_uri": "https://localhost:8080/"
        }
      },
      "source": [
        "from sklearn import metrics  \n",
        "print('Mean Absolute Error:', \n",
        "      metrics.mean_absolute_error(y_test, y_pred)) "
      ],
      "execution_count": 18,
      "outputs": [
        {
          "output_type": "stream",
          "text": [
            "Mean Absolute Error: 4.183859899002982\n"
          ],
          "name": "stdout"
        }
      ]
    }
  ]
}